{
 "cells": [
  {
   "cell_type": "code",
   "execution_count": null,
   "metadata": {},
   "outputs": [],
   "source": [
    "import napari\n",
    "\n",
    "# Initialize napari.Viewer and display input stacks and label processing steps\n",
    "viewer = napari.Viewer(ndisplay=2)\n",
    "viewer.add_image(img)\n",
    "viewer.add_image(nuclei_img)\n",
    "viewer.add_image(post_gaussian_img)\n",
    "viewer.add_image(img_rescale)\n",
    "viewer.add_labels(nuclei_masks)\n",
    "viewer.add_labels(h2a_nuclei_labels)\n",
    "viewer.add_labels(cfos_nuclei_labels)\n",
    "viewer.add_labels(double_pos_nuclei_labels)"
   ]
  }
 ],
 "metadata": {
  "language_info": {
   "name": "python"
  }
 },
 "nbformat": 4,
 "nbformat_minor": 2
}
